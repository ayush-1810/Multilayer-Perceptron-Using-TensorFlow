{
 "cells": [
  {
   "cell_type": "code",
   "execution_count": 1,
   "metadata": {
    "id": "MBVn2DP-YvSv"
   },
   "outputs": [
    {
     "name": "stdout",
     "output_type": "stream",
     "text": [
      "Requirement already satisfied: tensorflow in c:\\users\\91790\\anaconda3\\lib\\site-packages (2.8.0)\n",
      "Requirement already satisfied: typing-extensions>=3.6.6 in c:\\users\\91790\\anaconda3\\lib\\site-packages (from tensorflow) (3.10.0.2)\n",
      "Requirement already satisfied: numpy>=1.20 in c:\\users\\91790\\anaconda3\\lib\\site-packages (from tensorflow) (1.20.3)\n",
      "Requirement already satisfied: libclang>=9.0.1 in c:\\users\\91790\\anaconda3\\lib\\site-packages (from tensorflow) (13.0.0)\n",
      "Requirement already satisfied: tensorflow-io-gcs-filesystem>=0.23.1 in c:\\users\\91790\\anaconda3\\lib\\site-packages (from tensorflow) (0.24.0)\n",
      "Requirement already satisfied: gast>=0.2.1 in c:\\users\\91790\\anaconda3\\lib\\site-packages (from tensorflow) (0.5.3)\n",
      "Requirement already satisfied: opt-einsum>=2.3.2 in c:\\users\\91790\\anaconda3\\lib\\site-packages (from tensorflow) (3.3.0)\n",
      "Requirement already satisfied: protobuf>=3.9.2 in c:\\users\\91790\\anaconda3\\lib\\site-packages (from tensorflow) (3.19.4)\n",
      "Requirement already satisfied: flatbuffers>=1.12 in c:\\users\\91790\\anaconda3\\lib\\site-packages (from tensorflow) (2.0)\n",
      "Requirement already satisfied: h5py>=2.9.0 in c:\\users\\91790\\anaconda3\\lib\\site-packages (from tensorflow) (3.2.1)\n",
      "Requirement already satisfied: google-pasta>=0.1.1 in c:\\users\\91790\\anaconda3\\lib\\site-packages (from tensorflow) (0.2.0)\n",
      "Requirement already satisfied: tf-estimator-nightly==2.8.0.dev2021122109 in c:\\users\\91790\\anaconda3\\lib\\site-packages (from tensorflow) (2.8.0.dev2021122109)\n",
      "Requirement already satisfied: absl-py>=0.4.0 in c:\\users\\91790\\anaconda3\\lib\\site-packages (from tensorflow) (1.0.0)\n",
      "Requirement already satisfied: grpcio<2.0,>=1.24.3 in c:\\users\\91790\\anaconda3\\lib\\site-packages (from tensorflow) (1.44.0)\n",
      "Requirement already satisfied: tensorboard<2.9,>=2.8 in c:\\users\\91790\\anaconda3\\lib\\site-packages (from tensorflow) (2.8.0)\n",
      "Requirement already satisfied: keras<2.9,>=2.8.0rc0 in c:\\users\\91790\\anaconda3\\lib\\site-packages (from tensorflow) (2.8.0)\n",
      "Requirement already satisfied: keras-preprocessing>=1.1.1 in c:\\users\\91790\\anaconda3\\lib\\site-packages (from tensorflow) (1.1.2)\n",
      "Requirement already satisfied: termcolor>=1.1.0 in c:\\users\\91790\\anaconda3\\lib\\site-packages (from tensorflow) (1.1.0)\n",
      "Requirement already satisfied: astunparse>=1.6.0 in c:\\users\\91790\\anaconda3\\lib\\site-packages (from tensorflow) (1.6.3)\n",
      "Requirement already satisfied: six>=1.12.0 in c:\\users\\91790\\anaconda3\\lib\\site-packages (from tensorflow) (1.16.0)\n",
      "Requirement already satisfied: setuptools in c:\\users\\91790\\anaconda3\\lib\\site-packages (from tensorflow) (58.0.4)\n",
      "Requirement already satisfied: wrapt>=1.11.0 in c:\\users\\91790\\anaconda3\\lib\\site-packages (from tensorflow) (1.12.1)\n",
      "Requirement already satisfied: wheel<1.0,>=0.23.0 in c:\\users\\91790\\anaconda3\\lib\\site-packages (from astunparse>=1.6.0->tensorflow) (0.37.0)\n",
      "Requirement already satisfied: requests<3,>=2.21.0 in c:\\users\\91790\\anaconda3\\lib\\site-packages (from tensorboard<2.9,>=2.8->tensorflow) (2.26.0)\n",
      "Requirement already satisfied: markdown>=2.6.8 in c:\\users\\91790\\anaconda3\\lib\\site-packages (from tensorboard<2.9,>=2.8->tensorflow) (3.3.6)\n",
      "Requirement already satisfied: google-auth<3,>=1.6.3 in c:\\users\\91790\\anaconda3\\lib\\site-packages (from tensorboard<2.9,>=2.8->tensorflow) (2.6.2)\n",
      "Requirement already satisfied: tensorboard-data-server<0.7.0,>=0.6.0 in c:\\users\\91790\\anaconda3\\lib\\site-packages (from tensorboard<2.9,>=2.8->tensorflow) (0.6.1)\n",
      "Requirement already satisfied: google-auth-oauthlib<0.5,>=0.4.1 in c:\\users\\91790\\anaconda3\\lib\\site-packages (from tensorboard<2.9,>=2.8->tensorflow) (0.4.6)\n",
      "Requirement already satisfied: werkzeug>=0.11.15 in c:\\users\\91790\\anaconda3\\lib\\site-packages (from tensorboard<2.9,>=2.8->tensorflow) (2.0.2)\n",
      "Requirement already satisfied: tensorboard-plugin-wit>=1.6.0 in c:\\users\\91790\\anaconda3\\lib\\site-packages (from tensorboard<2.9,>=2.8->tensorflow) (1.8.1)\n",
      "Requirement already satisfied: cachetools<6.0,>=2.0.0 in c:\\users\\91790\\anaconda3\\lib\\site-packages (from google-auth<3,>=1.6.3->tensorboard<2.9,>=2.8->tensorflow) (5.0.0)\n",
      "Requirement already satisfied: rsa<5,>=3.1.4 in c:\\users\\91790\\anaconda3\\lib\\site-packages (from google-auth<3,>=1.6.3->tensorboard<2.9,>=2.8->tensorflow) (4.8)\n",
      "Requirement already satisfied: pyasn1-modules>=0.2.1 in c:\\users\\91790\\anaconda3\\lib\\site-packages (from google-auth<3,>=1.6.3->tensorboard<2.9,>=2.8->tensorflow) (0.2.8)\n",
      "Requirement already satisfied: requests-oauthlib>=0.7.0 in c:\\users\\91790\\anaconda3\\lib\\site-packages (from google-auth-oauthlib<0.5,>=0.4.1->tensorboard<2.9,>=2.8->tensorflow) (1.3.1)\n",
      "Requirement already satisfied: importlib-metadata>=4.4 in c:\\users\\91790\\anaconda3\\lib\\site-packages (from markdown>=2.6.8->tensorboard<2.9,>=2.8->tensorflow) (4.8.1)\n",
      "Requirement already satisfied: zipp>=0.5 in c:\\users\\91790\\anaconda3\\lib\\site-packages (from importlib-metadata>=4.4->markdown>=2.6.8->tensorboard<2.9,>=2.8->tensorflow) (3.6.0)\n",
      "Requirement already satisfied: pyasn1<0.5.0,>=0.4.6 in c:\\users\\91790\\anaconda3\\lib\\site-packages (from pyasn1-modules>=0.2.1->google-auth<3,>=1.6.3->tensorboard<2.9,>=2.8->tensorflow) (0.4.8)\n",
      "Requirement already satisfied: idna<4,>=2.5 in c:\\users\\91790\\anaconda3\\lib\\site-packages (from requests<3,>=2.21.0->tensorboard<2.9,>=2.8->tensorflow) (3.2)\n",
      "Requirement already satisfied: charset-normalizer~=2.0.0 in c:\\users\\91790\\anaconda3\\lib\\site-packages (from requests<3,>=2.21.0->tensorboard<2.9,>=2.8->tensorflow) (2.0.4)\n",
      "Requirement already satisfied: urllib3<1.27,>=1.21.1 in c:\\users\\91790\\anaconda3\\lib\\site-packages (from requests<3,>=2.21.0->tensorboard<2.9,>=2.8->tensorflow) (1.26.7)\n",
      "Requirement already satisfied: certifi>=2017.4.17 in c:\\users\\91790\\anaconda3\\lib\\site-packages (from requests<3,>=2.21.0->tensorboard<2.9,>=2.8->tensorflow) (2021.10.8)\n",
      "Requirement already satisfied: oauthlib>=3.0.0 in c:\\users\\91790\\anaconda3\\lib\\site-packages (from requests-oauthlib>=0.7.0->google-auth-oauthlib<0.5,>=0.4.1->tensorboard<2.9,>=2.8->tensorflow) (3.2.0)\n",
      "Note: you may need to restart the kernel to use updated packages.\n"
     ]
    }
   ],
   "source": [
    "pip install tensorflow"
   ]
  },
  {
   "cell_type": "code",
   "execution_count": 2,
   "metadata": {
    "id": "Xnz3LKuiY_z-"
   },
   "outputs": [],
   "source": [
    "#when full data set are being forward and backwardly being propogated is called Epochs\n",
    "#Glurot/Xavior"
   ]
  },
  {
   "cell_type": "code",
   "execution_count": 3,
   "metadata": {
    "id": "EKvhN4BjY_2z"
   },
   "outputs": [],
   "source": [
    "import numpy as np\n",
    "import pandas as pd\n",
    "import matplotlib.pyplot as plt\n",
    "import tensorflow as tf"
   ]
  },
  {
   "cell_type": "code",
   "execution_count": 4,
   "metadata": {
    "id": "p-XMK26MY_5s"
   },
   "outputs": [],
   "source": [
    "from sklearn.preprocessing import LabelBinarizer\n",
    "import keras"
   ]
  },
  {
   "cell_type": "code",
   "execution_count": 5,
   "metadata": {
    "id": "2B2HhNFsY_8X"
   },
   "outputs": [],
   "source": [
    "def load_mnist(flatten=False):\n",
    "  (X_train, Y_train), (X_test,Y_test)=keras.datasets.mnist.load_data()\n",
    "  print(X_train.shape,Y_train.shape,X_test.shape,Y_test.shape)\n",
    "  #normalisation --> between 0 to 1\n",
    "  X_train=X_train.astype(float)/255\n",
    "  X_test=X_test.astype(float)/255\n",
    "\n",
    "  #data seperation\n",
    "  X_train=X_train[ :-10000]\n",
    "  X_val=X_train[-10000: ]\n",
    "  Y_train=Y_train[ :-10000]\n",
    "  Y_val=Y_train[-10000: ]\n",
    "  print(X_val.shape,Y_val.shape)\n",
    "\n",
    "  if flatten:\n",
    "    X_train=X_train.reshape([X_train.shape[0],-1])\n",
    "    X_val=X_val.reshape([X_val.shape[0],-1])\n",
    "    X_test=X_test.reshape([X_val.shape[0],-1])\n",
    "  return X_train,Y_train,X_val,Y_val,X_test,Y_test\n"
   ]
  },
  {
   "cell_type": "code",
   "execution_count": 6,
   "metadata": {
    "colab": {
     "base_uri": "https://localhost:8080/"
    },
    "id": "CASu0H0rY__H",
    "outputId": "dbcb756c-78bc-4331-d233-d404ea637bd6"
   },
   "outputs": [
    {
     "name": "stdout",
     "output_type": "stream",
     "text": [
      "Downloading data from https://storage.googleapis.com/tensorflow/tf-keras-datasets/mnist.npz\n",
      "11493376/11490434 [==============================] - 0s 0us/step\n",
      "11501568/11490434 [==============================] - 0s 0us/step\n",
      "(60000, 28, 28) (60000,) (10000, 28, 28) (10000,)\n",
      "(10000, 28, 28) (10000,)\n"
     ]
    }
   ],
   "source": [
    "X_train,Y_train,X_val,Y_val,X_test,Y_test=load_mnist()\n"
   ]
  },
  {
   "cell_type": "code",
   "execution_count": 7,
   "metadata": {
    "colab": {
     "base_uri": "https://localhost:8080/",
     "height": 299
    },
    "id": "j0crM3aSZABw",
    "outputId": "1d6a1cde-0025-4573-e127-ef4cf4ba6e3e"
   },
   "outputs": [
    {
     "name": "stdout",
     "output_type": "stream",
     "text": [
      "5\n"
     ]
    },
    {
     "data": {
      "text/plain": [
       "<matplotlib.image.AxesImage at 0x2624cff2a60>"
      ]
     },
     "execution_count": 7,
     "metadata": {},
     "output_type": "execute_result"
    },
    {
     "data": {
      "image/png": "[encoded data removed]",
      "text/plain": [
       "<Figure size 432x288 with 1 Axes>"
      ]
     },
     "metadata": {
      "needs_background": "light"
     },
     "output_type": "display_data"
    }
   ],
   "source": [
    "print(Y_train[0])\n",
    "plt.imshow(X_train[0],cmap=\"Greys\")"
   ]
  },
  {
   "cell_type": "code",
   "execution_count": 8,
   "metadata": {
    "colab": {
     "base_uri": "https://localhost:8080/",
     "height": 299
    },
    "id": "k60wrJvHZAEa",
    "outputId": "26ead7b7-cd2c-481f-b2e9-8a8d3b0895f4"
   },
   "outputs": [
    {
     "name": "stdout",
     "output_type": "stream",
     "text": [
      "1\n"
     ]
    },
    {
     "data": {
      "text/plain": [
       "<matplotlib.image.AxesImage at 0x2624d790b20>"
      ]
     },
     "execution_count": 8,
     "metadata": {},
     "output_type": "execute_result"
    },
    {
     "data": {
      "image/png": "[encoded data removed]",
      "text/plain": [
       "<Figure size 432x288 with 1 Axes>"
      ]
     },
     "metadata": {
      "needs_background": "light"
     },
     "output_type": "display_data"
    }
   ],
   "source": [
    "print(Y_train[3])\n",
    "plt.imshow(X_train[3],cmap=\"Greys\")"
   ]
  },
  {
   "cell_type": "code",
   "execution_count": 9,
   "metadata": {
    "colab": {
     "base_uri": "https://localhost:8080/",
     "height": 299
    },
    "id": "2U_M70CiZAHh",
    "outputId": "abf86433-2cc8-4447-9c4b-2412315af2f4"
   },
   "outputs": [
    {
     "name": "stdout",
     "output_type": "stream",
     "text": [
      "3\n"
     ]
    },
    {
     "data": {
      "text/plain": [
       "<matplotlib.image.AxesImage at 0x2624d7fde20>"
      ]
     },
     "execution_count": 9,
     "metadata": {},
     "output_type": "execute_result"
    },
    {
     "data": {
      "image/png": "[encoded data removed]",
      "text/plain": [
       "<Figure size 432x288 with 1 Axes>"
      ]
     },
     "metadata": {
      "needs_background": "light"
     },
     "output_type": "display_data"
    }
   ],
   "source": [
    "print(Y_train[10])\n",
    "plt.imshow(X_train[10],cmap=\"Greys\")"
   ]
  },
  {
   "cell_type": "code",
   "execution_count": 10,
   "metadata": {
    "colab": {
     "base_uri": "https://localhost:8080/"
    },
    "id": "SMTKDVhtt1P-",
    "outputId": "4d8a701f-c430-4db7-9409-11843282eb99"
   },
   "outputs": [
    {
     "data": {
      "text/plain": [
       "(28, 28)"
      ]
     },
     "execution_count": 10,
     "metadata": {},
     "output_type": "execute_result"
    }
   ],
   "source": [
    "X_train[0].shape"
   ]
  },
  {
   "cell_type": "code",
   "execution_count": 11,
   "metadata": {
    "colab": {
     "base_uri": "https://localhost:8080/"
    },
    "id": "Owu8h5O2t1Sf",
    "outputId": "7dcf4c67-b75c-4b7e-8dac-bb8e511539e0"
   },
   "outputs": [
    {
     "data": {
      "text/plain": [
       "(50000, 28, 28)"
      ]
     },
     "execution_count": 11,
     "metadata": {},
     "output_type": "execute_result"
    }
   ],
   "source": [
    "X_train.shape"
   ]
  },
  {
   "cell_type": "markdown",
   "metadata": {
    "id": "JkyxT-X1uBCI"
   },
   "source": [
    "## Changing dimension of input from N* 28 * 28 to N*784"
   ]
  },
  {
   "cell_type": "code",
   "execution_count": 12,
   "metadata": {
    "colab": {
     "base_uri": "https://localhost:8080/"
    },
    "id": "4Ouuj20At1VT",
    "outputId": "9eebff71-651f-480c-969c-0819816cd02a"
   },
   "outputs": [
    {
     "data": {
      "text/plain": [
       "784"
      ]
     },
     "execution_count": 12,
     "metadata": {},
     "output_type": "execute_result"
    }
   ],
   "source": [
    "28*28"
   ]
  },
  {
   "cell_type": "code",
   "execution_count": 13,
   "metadata": {
    "colab": {
     "base_uri": "https://localhost:8080/"
    },
    "id": "mcCecV14t1Xu",
    "outputId": "ab3355af-73b4-4d8c-b537-3def665b7b96"
   },
   "outputs": [
    {
     "data": {
      "text/plain": [
       "28"
      ]
     },
     "execution_count": 13,
     "metadata": {},
     "output_type": "execute_result"
    }
   ],
   "source": [
    "X_train.shape[2]"
   ]
  },
  {
   "cell_type": "code",
   "execution_count": 14,
   "metadata": {
    "id": "QaI1zIL42zzm"
   },
   "outputs": [],
   "source": [
    "X_train=X_train.reshape((X_train.shape[0],X_train.shape[1]*X_train.shape[2]))\n",
    "X_test=X_test.reshape((X_test.shape[0],X_test.shape[1]*X_test.shape[2]))\n",
    "\n",
    "\n"
   ]
  },
  {
   "cell_type": "code",
   "execution_count": 15,
   "metadata": {
    "colab": {
     "base_uri": "https://localhost:8080/"
    },
    "id": "QzyiOBzG2z2Q",
    "outputId": "d2a547e7-fef0-471d-f6db-2131343f1064"
   },
   "outputs": [
    {
     "data": {
      "text/plain": [
       "(50000, 784)"
      ]
     },
     "execution_count": 15,
     "metadata": {},
     "output_type": "execute_result"
    }
   ],
   "source": [
    "X_train.shape"
   ]
  },
  {
   "cell_type": "code",
   "execution_count": 16,
   "metadata": {
    "id": "PWbrifpv2z4p"
   },
   "outputs": [],
   "source": [
    "Y_train=LabelBinarizer().fit_transform(Y_train)\n",
    "Y_test=LabelBinarizer().fit_transform(Y_test)"
   ]
  },
  {
   "cell_type": "code",
   "execution_count": 17,
   "metadata": {
    "colab": {
     "base_uri": "https://localhost:8080/"
    },
    "id": "rANF4su92z9l",
    "outputId": "81de37e0-78af-478a-e844-3318b74801ad"
   },
   "outputs": [
    {
     "name": "stdout",
     "output_type": "stream",
     "text": [
      "(50000, 10) (10000, 10)\n"
     ]
    }
   ],
   "source": [
    "print(Y_train.shape,Y_test.shape)"
   ]
  },
  {
   "cell_type": "code",
   "execution_count": 18,
   "metadata": {
    "id": "0VZKq8nI20MJ"
   },
   "outputs": [],
   "source": [
    "num_classes=Y_train.shape[1]\n",
    "num_features=X_train.shape[1]\n",
    "num_output=Y_train.shape[1]\n",
    "num_layers_0=512\n",
    "num_layers_1=256\n",
    "start_learning_rate=0.001\n",
    "regularizer_rate=0.1"
   ]
  },
  {
   "cell_type": "code",
   "execution_count": 19,
   "metadata": {
    "colab": {
     "base_uri": "https://localhost:8080/"
    },
    "id": "jvRSyHQL20PL",
    "outputId": "bb6c00a0-edcb-4201-b36d-5a012c399e76"
   },
   "outputs": [
    {
     "name": "stdout",
     "output_type": "stream",
     "text": [
      "WARNING:tensorflow:From C:\\Users\\91790\\anaconda3\\lib\\site-packages\\tensorflow\\python\\compat\\v2_compat.py:107: disable_resource_variables (from tensorflow.python.ops.variable_scope) is deprecated and will be removed in a future version.\n",
      "Instructions for updating:\n",
      "non-resource variables are not supported in the long term\n"
     ]
    }
   ],
   "source": [
    "import tensorflow.compat.v1 as tf\n",
    "tf.disable_v2_behavior()"
   ]
  },
  {
   "cell_type": "code",
   "execution_count": 20,
   "metadata": {
    "id": "Sx3AKMaT20St"
   },
   "outputs": [],
   "source": [
    "input_X=tf.placeholder(\"float32\",shape=(None,num_features),name=\"input_X\")\n",
    "input_Y=tf.placeholder(\"float32\",shape=(None,num_classes),name=\"input_Y\")\n",
    "keep_prob=tf.placeholder(tf.float32)"
   ]
  },
  {
   "cell_type": "code",
   "execution_count": 21,
   "metadata": {
    "id": "108fLKNE20XZ"
   },
   "outputs": [],
   "source": [
    "#input_layer\n",
    "weight_0=tf.Variable(tf.random_normal([num_features,num_layers_0],stddev=1/tf.sqrt(float(num_features))))\n",
    "bias_0=tf.Variable(tf.random_normal([num_layers_0]))\n",
    "\n",
    "#hidden_layer\n",
    "weight_1=tf.Variable(tf.random_normal([num_layers_0,num_layers_1],stddev=1/tf.sqrt(float(num_layers_0))))\n",
    "bias_1=tf.Variable(tf.random_normal([num_layers_1]))\n",
    "\n",
    "#output_layer\n",
    "weight_2=tf.Variable(tf.random_normal([num_layers_1,num_output],stddev=1/tf.sqrt(float(num_layers_1))))\n",
    "bias_2=tf.Variable(tf.random_normal([num_output]))\n"
   ]
  },
  {
   "cell_type": "code",
   "execution_count": 22,
   "metadata": {
    "colab": {
     "base_uri": "https://localhost:8080/"
    },
    "id": "Q6cLBXM620a5",
    "outputId": "81ed504a-ac8c-4425-bb76-cd79db6505c3"
   },
   "outputs": [
    {
     "name": "stdout",
     "output_type": "stream",
     "text": [
      "WARNING:tensorflow:From C:\\Users\\91790\\anaconda3\\lib\\site-packages\\tensorflow\\python\\util\\dispatch.py:1082: calling dropout (from tensorflow.python.ops.nn_ops) with keep_prob is deprecated and will be removed in a future version.\n",
      "Instructions for updating:\n",
      "Please use `rate` instead of `keep_prob`. Rate should be set to `rate = 1 - keep_prob`.\n"
     ]
    }
   ],
   "source": [
    "hidden_output_0=tf.nn.relu(tf.matmul(input_X,weight_0)+bias_0)\n",
    "hidden_output_0_0=tf.nn.dropout(hidden_output_0,keep_prob)\n",
    "\n",
    "hidden_output_1=tf.nn.relu(tf.matmul(hidden_output_0_0,weight_1)+bias_1)\n",
    "hidden_output_1_1=tf.nn.dropout(hidden_output_1,keep_prob)\n",
    "\n",
    "predicted_y=tf.sigmoid(tf.matmul(hidden_output_1_1,weight_2)+bias_2)\n",
    "\n"
   ]
  },
  {
   "cell_type": "code",
   "execution_count": 23,
   "metadata": {
    "id": "QVNA1FT3Amvp"
   },
   "outputs": [],
   "source": [
    "loss=tf.reduce_mean(tf.nn.softmax_cross_entropy_with_logits_v2(logits=predicted_y,labels=input_Y))+ regularizer_rate*(tf.reduce_sum(tf.square(bias_0))*tf.reduce_sum(tf.square(bias_1)) )\n"
   ]
  },
  {
   "cell_type": "code",
   "execution_count": 24,
   "metadata": {
    "id": "ZvuN350QAmya"
   },
   "outputs": [],
   "source": [
    "learning_rate=tf.train.exponential_decay(start_learning_rate,0,5,0.85,staircase=True)\n",
    "optimizer=tf.train.AdamOptimizer(learning_rate).minimize(loss,var_list=[weight_0,weight_1,weight_2,bias_0,bias_1,bias_2])\n"
   ]
  },
  {
   "cell_type": "code",
   "execution_count": 25,
   "metadata": {
    "id": "Jk7sDs9SAm1d"
   },
   "outputs": [],
   "source": [
    "correct_prediction=tf.equal(tf.argmax(Y_train,1),tf.argmax(predicted_y,1))\n",
    "accuracy=tf.reduce_mean(tf.cast(correct_prediction,tf.float32))"
   ]
  },
  {
   "cell_type": "code",
   "execution_count": 26,
   "metadata": {
    "id": "c-XignpOAm6b"
   },
   "outputs": [],
   "source": [
    "batch_size=128\n",
    "epochs=14\n",
    "dropout_prob=0.6\n"
   ]
  },
  {
   "cell_type": "code",
   "execution_count": 27,
   "metadata": {
    "id": "lVx4AKsyAm9T"
   },
   "outputs": [],
   "source": [
    "training_accuracy=[]\n",
    "training_loss=[]\n",
    "testing_accuracy=[]"
   ]
  },
  {
   "cell_type": "code",
   "execution_count": 28,
   "metadata": {
    "id": "1LTa5wGpAnAp"
   },
   "outputs": [],
   "source": [
    "s=tf.InteractiveSession()"
   ]
  },
  {
   "cell_type": "code",
   "execution_count": 29,
   "metadata": {
    "id": "1bnk31rjAnDn"
   },
   "outputs": [],
   "source": [
    "from sklearn.metrics import accuracy_score"
   ]
  },
  {
   "cell_type": "code",
   "execution_count": 30,
   "metadata": {
    "id": "Z5QwPhP7t1ax"
   },
   "outputs": [],
   "source": [
    "# s.run(tf.global_variables_initializer())\n",
    "# for epoch in range(epochs):\n",
    "#   arr=np.arange(X_train.shape[0])\n",
    "#   np.random.shuffle(arr)\n",
    "#   for index in range(0,X_train.shape[0],batch_size):\n",
    "#     s.run(optimizer,{input_X:X_train[arr[index:index+batch_size]],input_Y:Y_train[arr[index:index+batch_size]],keep_prob:dropout_prob})\n",
    "\n",
    "#     training_accuracy.append(s.run(accuracy,feed_dict={input_X:X_train,input_Y:Y_train,keep_prob:1}))\n",
    "#     testing_accuracy.append(accuracy_score(Y_test.argmax(1),s.run(predicted_y,{input_X:X_test,keep_prob:1}).argmax(1)))\n",
    "#     training_loss.append(s.run(loss,{input_X:X_train,input_Y:Y_train,keep_prob:1}))\n",
    "#     print(\"Epochs:{0},train loss:{1:2f},Train accu:{2:3f},Test acc:{3:3f}\",format(epoch,training_loss[epoch],training_accuracy[epoch],testing_accuracy[epoch]))"
   ]
  },
  {
   "cell_type": "code",
   "execution_count": 31,
   "metadata": {
    "colab": {
     "base_uri": "https://localhost:8080/"
    },
    "id": "C0Sy_7i_5FPn",
    "outputId": "eff90d01-ac0d-4c51-f990-0bb0cb94f776"
   },
   "outputs": [
    {
     "name": "stdout",
     "output_type": "stream",
     "text": [
      "Epoch:0, Train loss: 3884.54 Train acc: 0.930, Test acc:0.930\n",
      "Epoch:1, Train loss: 1675.50 Train acc: 0.954, Test acc:0.951\n",
      "Epoch:2, Train loss: 837.94 Train acc: 0.966, Test acc:0.960\n",
      "Epoch:3, Train loss: 460.62 Train acc: 0.971, Test acc:0.965\n",
      "Epoch:4, Train loss: 270.09 Train acc: 0.975, Test acc:0.969\n",
      "Epoch:5, Train loss: 165.85 Train acc: 0.980, Test acc:0.972\n",
      "Epoch:6, Train loss: 105.39 Train acc: 0.982, Test acc:0.973\n",
      "Epoch:7, Train loss: 68.74 Train acc: 0.984, Test acc:0.975\n",
      "Epoch:8, Train loss: 45.78 Train acc: 0.985, Test acc:0.976\n",
      "Epoch:9, Train loss: 31.02 Train acc: 0.986, Test acc:0.976\n",
      "Epoch:10, Train loss: 21.35 Train acc: 0.988, Test acc:0.977\n",
      "Epoch:11, Train loss: 14.90 Train acc: 0.988, Test acc:0.979\n",
      "Epoch:12, Train loss: 10.56 Train acc: 0.990, Test acc:0.979\n",
      "Epoch:13, Train loss: 7.61 Train acc: 0.991, Test acc:0.979\n"
     ]
    }
   ],
   "source": [
    "s.run(tf.global_variables_initializer())\n",
    "for epoch in range(epochs):    \n",
    "    arr = np.arange(X_train.shape[0])\n",
    "    np.random.shuffle(arr)\n",
    "    for index in range(0,X_train.shape[0],batch_size):\n",
    "        s.run(optimizer, {input_X: X_train[arr[index:index+batch_size]],\n",
    "                          input_Y: Y_train[arr[index:index+batch_size]],\n",
    "                        keep_prob:dropout_prob})\n",
    "    training_accuracy.append(s.run(accuracy, feed_dict= {input_X:X_train, \n",
    "                                                         input_Y: Y_train,keep_prob:1}))\n",
    "    training_loss.append(s.run(loss, {input_X: X_train, \n",
    "                                      input_Y: Y_train,keep_prob:1}))\n",
    "    \n",
    "    ## Evaluation of model\n",
    "    testing_accuracy.append(accuracy_score(Y_test.argmax(1), \n",
    "                            s.run(predicted_y, {input_X: X_test,keep_prob:1}).argmax(1)))\n",
    "    print(\"Epoch:{0}, Train loss: {1:.2f} Train acc: {2:.3f}, Test acc:{3:.3f}\".format(epoch,\n",
    "                                                                    training_loss[epoch],\n",
    "                                                                    training_accuracy[epoch],\n",
    "                                                                   testing_accuracy[epoch]))"
   ]
  },
  {
   "cell_type": "code",
   "execution_count": null,
   "metadata": {
    "id": "kKRxYtIeUqoA"
   },
   "outputs": [],
   "source": []
  },
  {
   "cell_type": "code",
   "execution_count": null,
   "metadata": {
    "id": "glOdGGeAUqoB"
   },
   "outputs": [],
   "source": []
  },
  {
   "cell_type": "code",
   "execution_count": null,
   "metadata": {
    "id": "ft17CQEWUqoB"
   },
   "outputs": [],
   "source": []
  }
 ],
 "metadata": {
  "colab": {
   "name": "Multilayer_Layer_Perceptron_using_Tensorflow(31 March).ipynb",
   "provenance": []
  },
  "kernelspec": {
   "display_name": "Python 3 (ipykernel)",
   "language": "python",
   "name": "python3"
  },
  "language_info": {
   "codemirror_mode": {
    "name": "ipython",
    "version": 3
   },
   "file_extension": ".py",
   "mimetype": "text/x-python",
   "name": "python",
   "nbconvert_exporter": "python",
   "pygments_lexer": "ipython3",
   "version": "3.9.7"
  }
 },
 "nbformat": 4,
 "nbformat_minor": 1
}
